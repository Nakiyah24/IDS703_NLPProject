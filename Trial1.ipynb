{
 "cells": [
  {
   "cell_type": "code",
   "execution_count": null,
   "metadata": {},
   "outputs": [],
   "source": [
    "from sklearn.model_selection import train_test_split\n",
    "from bertopic import BERTopic\n",
    "from sklearn.feature_extraction.text import CountVectorizer\n",
    "from sklearn.metrics import classification_report\n",
    "from transformers import AutoTokenizer, AutoModelForSequenceClassification\n",
    "import torch\n",
    "import pandas as pd"
   ]
  },
  {
   "cell_type": "code",
   "execution_count": null,
   "metadata": {},
   "outputs": [],
   "source": [
    "# Assuming the dataset is in a CSV file\n",
    "df = pd.read_csv(\"LIAR2/train.csv\", delimiter=',')\n",
    "statements = df['statement'].dropna().tolist() \n",
    "subjects = df['subject'].dropna().tolist()  "
   ]
  },
  {
   "cell_type": "code",
   "execution_count": null,
   "metadata": {},
   "outputs": [],
   "source": [
    "\n",
    "\n",
    "# Split data into training and testing\n",
    "X_train, X_test, y_train, y_test = train_test_split(statements, subjects, test_size=0.2, random_state=42)\n",
    "\n",
    "# Initialize a tokenizer and model for embeddings (using a pre-trained BERT model)\n",
    "tokenizer = AutoTokenizer.from_pretrained(\"bert-base-uncased\")\n",
    "model = AutoModelForSequenceClassification.from_pretrained(\"bert-base-uncased\")\n",
    "\n",
    "# Function to encode text using BERT embeddings\n",
    "def encode_text(texts):\n",
    "    inputs = tokenizer(texts, padding=True, truncation=True, return_tensors=\"pt\", max_length=512)\n",
    "    with torch.no_grad():\n",
    "        embeddings = model(**inputs).logits\n",
    "    return embeddings.numpy()\n",
    "\n",
    "# Use the above function to encode the training and test texts\n",
    "X_train_embeddings = encode_text(X_train)\n",
    "X_test_embeddings = encode_text(X_test)\n",
    "\n",
    "# Initialize BERTopic with supervision (use the subjects as labels)\n",
    "topic_model = BERTopic(language=\"english\")\n",
    "topic_model.fit(X_train_embeddings, y_train)\n",
    "\n",
    "# Evaluate the model\n",
    "y_pred = topic_model.transform(X_test_embeddings)\n",
    "print(classification_report(y_test, y_pred))\n"
   ]
  }
 ],
 "metadata": {
  "kernelspec": {
   "display_name": "Python 3",
   "language": "python",
   "name": "python3"
  },
  "language_info": {
   "name": "python",
   "version": "3.12.7"
  }
 },
 "nbformat": 4,
 "nbformat_minor": 2
}
