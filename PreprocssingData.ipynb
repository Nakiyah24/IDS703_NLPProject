{
 "cells": [
  {
   "cell_type": "code",
   "execution_count": null,
   "metadata": {},
   "outputs": [],
   "source": [
    "import pandas as pd\n",
    "from sklearn.preprocessing import MultiLabelBinarizer\n",
    "\n",
    "pd.set_option('display.max_rows', None)\n",
    "pd.set_option('display.max_columns', None)"
   ]
  },
  {
   "cell_type": "code",
   "execution_count": null,
   "metadata": {},
   "outputs": [],
   "source": [
    "# Load the data\n",
    "df = pd.read_csv(\"LIAR2/train.csv\")"
   ]
  },
  {
   "cell_type": "code",
   "execution_count": null,
   "metadata": {},
   "outputs": [],
   "source": [
    "# Split subjects by \";\" and filter out NaNs\n",
    "df['subject'] = df['subject'].fillna(\"\").apply(lambda x: x.split(\";\"))\n",
    "\n",
    "# Use MultiLabelBinarizer to one-hot encode\n",
    "mlb = MultiLabelBinarizer()\n",
    "OneHotVectors = mlb.fit_transform(df['subject'])\n",
    "\n",
    "# Convert OneHotVectors to a DataFrame for easier analysis if needed\n",
    "df_OneHot = pd.DataFrame(OneHotVectors, columns=mlb.classes_)\n",
    "display(df_OneHot)\n"
   ]
  },
  {
   "cell_type": "code",
   "execution_count": null,
   "metadata": {},
   "outputs": [],
   "source": [
    "# df = pd.read_csv(\"LIAR2/train.csv\")\n",
    "\n",
    "# # Extract unique subjects\n",
    "# subjects = df['subject'].tolist()\n",
    "# UniqueSubjects = set(subjects)\n",
    "# OneHotVectors = []\n",
    "\n",
    "# for row in df[\"subject\"]:\n",
    "#     if pd.notna(row):  # Check if the row is not NaN\n",
    "#         row.split(\";\")\n",
    "#         OneHotVector = [1 if subject in subjects else 0 for subject in UniqueSubjects]  # Create one-hot encoding\n",
    "#         OneHotVectors.append(OneHotVector)  # Add the vector to the list\n",
    "#     print(row)\n",
    "\n",
    "\n",
    "# # Print results\n",
    "# print(\"Unique Subjects:\", UniqueSubjects)\n",
    "# print(\"One-Hot Encoded Vectors:\")\n",
    "# for i, vector in enumerate(OneHotVectors):\n",
    "#     print(f\"Row {i+1}: {vector}\")"
   ]
  }
 ],
 "metadata": {
  "kernelspec": {
   "display_name": "Python 3",
   "language": "python",
   "name": "python3"
  },
  "language_info": {
   "codemirror_mode": {
    "name": "ipython",
    "version": 3
   },
   "file_extension": ".py",
   "mimetype": "text/x-python",
   "name": "python",
   "nbconvert_exporter": "python",
   "pygments_lexer": "ipython3",
   "version": "3.12.7"
  }
 },
 "nbformat": 4,
 "nbformat_minor": 2
}
