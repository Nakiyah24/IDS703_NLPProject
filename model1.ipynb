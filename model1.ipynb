{
 "cells": [
  {
   "cell_type": "code",
   "execution_count": 11,
   "metadata": {},
   "outputs": [],
   "source": [
    "import pandas as pd\n",
    "import numpy as np\n",
    "\n",
    "pd.set_option(\"display.max_rows\", None)\n",
    "pd.set_option(\"display.max_columns\", None)"
   ]
  },
  {
   "cell_type": "code",
   "execution_count": 12,
   "metadata": {},
   "outputs": [],
   "source": [
    "# statement, speaker_description, justification\n",
    "\n",
    "\n",
    "def build_descriptive_text_vocab_ashley(input_text):\n",
    "    vocab = set()\n",
    "    vocab.add(\"<UNK>\")\n",
    "    for text in input_text:\n",
    "        for word in text.split():\n",
    "            word = remove_punctuation_ashley(word)\n",
    "            if word:\n",
    "                vocab.add(word)\n",
    "    return {token: i for i, token in enumerate(vocab)}\n",
    "\n",
    "\n",
    "def vectorize_descriptive_text_ashley(input_text, vocab):\n",
    "    vectorized_text = np.zeros(len(vocab))\n",
    "    for word in input_text.split():\n",
    "        word = remove_punctuation_ashley(word)\n",
    "        if word in vocab:\n",
    "            vectorized_text[vocab[word]] += 1\n",
    "        else:\n",
    "            vectorized_text[vocab[\"<UNK>\"]] += 1\n",
    "    return vectorized_text\n",
    "\n",
    "\n",
    "def remove_punctuation_ashley(word):\n",
    "    punctuation = set([\".\", \"(\", \")\", \",\", \";\", \"?\", \"!\", '\"', \":\", \"'\"])\n",
    "    while word and word[0] in punctuation:\n",
    "        word = word[1:]\n",
    "    while word and word[-1] in punctuation:\n",
    "        word = word[:-1]\n",
    "    return word.lower()"
   ]
  },
  {
   "cell_type": "code",
   "execution_count": 13,
   "metadata": {},
   "outputs": [],
   "source": [
    "# one hot encoding of subjects and context\n",
    "\n",
    "\n",
    "# for the subject and context columns we only need to add each row into the vocab list and see if there are any repetitions\n",
    "def build_descriptive_text_vocab_nruta(input_text):\n",
    "    vocab = set()\n",
    "    input_text = input_text.str.lower()\n",
    "    for word in input_text:\n",
    "        vocab.add(word)\n",
    "    vocab.add(\"<UNK>\")\n",
    "    return {token: i for i, token in enumerate(vocab)}\n",
    "\n",
    "\n",
    "def vectorize_descriptive_text_nruta(input_text, vocab):\n",
    "    vectorized_text = np.zeros(len(vocab))\n",
    "    for word in input_text:\n",
    "        if word in vocab:\n",
    "            vectorized_text[vocab[word]] += 1\n",
    "        else:\n",
    "            vectorized_text[vocab[\"<UNK>\"]] += 1\n",
    "    return vectorized_text"
   ]
  },
  {
   "cell_type": "code",
   "execution_count": 14,
   "metadata": {},
   "outputs": [],
   "source": [
    "def build_descriptive_text_vocab_subject_stateInfo_nakiyah(input_text):\n",
    "    vocab = set()\n",
    "    vocab.add(\"<UNK>\")\n",
    "    input_text = input_text.str.lower()\n",
    "    input_text = input_text.astype(str)\n",
    "\n",
    "    # Build vocabulary\n",
    "    for text in input_text:\n",
    "        for word in text.split(\";\"):\n",
    "            word = word.strip()  # Remove extra spaces\n",
    "            if word:\n",
    "                vocab.add(word)\n",
    "\n",
    "    return {token: i for i, token in enumerate(vocab)}\n",
    "\n",
    "\n",
    "def vectorize_descriptive_text_subject_nakiyah(input_text, vocab):\n",
    "    # Ensure the input is a string\n",
    "    if isinstance(input_text, list):\n",
    "        input_text = \";\".join(input_text)  # Join list into a string\n",
    "    vectorized_text = np.zeros(len(vocab))\n",
    "    for word in input_text.split(\";\"):\n",
    "        if word in vocab:\n",
    "            vectorized_text[vocab[word]] += 1\n",
    "        else:\n",
    "            vectorized_text[vocab[\"<UNK>\"]] += 1\n",
    "    return vectorized_text"
   ]
  },
  {
   "cell_type": "markdown",
   "metadata": {},
   "source": [
    "### Converting csv to a PyTorch Dataset Object"
   ]
  },
  {
   "cell_type": "code",
   "execution_count": 15,
   "metadata": {},
   "outputs": [],
   "source": [
    "import torch\n",
    "from torch.utils.data import Dataset, DataLoader\n",
    "import torchvision.transforms as transform\n",
    "import torch.nn as nn\n",
    "from tqdm import tqdm\n",
    "from torch.optim import Adam\n",
    "import matplotlib.pyplot as plt\n",
    "from sklearn.metrics import accuracy_score, precision_score, recall_score, f1_score, classification_report, ConfusionMatrixDisplay\n",
    "\n",
    "from sklearn.decomposition import SparsePCA\n",
    "from sklearn.preprocessing import StandardScaler"
   ]
  },
  {
   "cell_type": "code",
   "execution_count": 17,
   "metadata": {},
   "outputs": [],
   "source": [
    "def process_data(df, vocabs):\n",
    "    \"\"\"\n",
    "    Processes a dataset file to encode categorical variables and convert data into PyTorch tensors.\n",
    "\n",
    "    Args:\n",
    "        file_path (str): Path to the CSV file\n",
    "\n",
    "    Returns:\n",
    "        tuple: A tuple containing:\n",
    "        - features_tensor (torch.Tensor) : Tensor of features\n",
    "        - labels_tensor (torch.Tensor) : Tensor of labels.\n",
    "        - label_encoders (dict): Dictionary of LabelEncoders for categorical columns\n",
    "    \"\"\"\n",
    "    print(\"processing data\")\n",
    "    # drop useless data\n",
    "    dropped_columns = [\"id\", \"date\"]\n",
    "    df = df.drop(dropped_columns, axis=1)\n",
    "    \n",
    "    for col in [\"statement\", \"justification\", \"speaker_description\"]:\n",
    "        df[col] = df[col].fillna(\"None\").astype(str)\n",
    "        df[col] = df[col].apply(lambda x: vectorize_descriptive_text_ashley(x, vocabs[col]))\n",
    "        \n",
    "    for col in [\"subject\", \"state_info\"]:\n",
    "        df[col] = df[col].fillna(\"None\").astype(str)\n",
    "        df[col] = df[col].apply(lambda x: vectorize_descriptive_text_subject_nakiyah(x, vocabs[col]))\n",
    "        \n",
    "    for col in [\"speaker\", \"context\"]:\n",
    "        df[col] = df[col].fillna(\"None\").astype(str)\n",
    "        df[col] = df[col].apply(lambda x: vectorize_descriptive_text_nruta(x, vocabs[col]))\n",
    "\n",
    "    return df\n",
    "\n",
    "def create_vocabs():\n",
    "    df = pd.read_csv(\"data/train.csv\")\n",
    "    dropped_columns = [\"id\", \"date\"]\n",
    "    df = df.drop(dropped_columns, axis=1)\n",
    "    \n",
    "    vocabs = {}\n",
    "    for col in [\"statement\", \"justification\", \"speaker_description\"]:\n",
    "        df[col] = df[col].fillna(\"None\").astype(str)\n",
    "        V = build_descriptive_text_vocab_ashley(df[col])\n",
    "        df[col] = df[col].apply(lambda x: vectorize_descriptive_text_ashley(x, V))\n",
    "        vocabs[col] = V\n",
    "        \n",
    "    for col in [\"subject\", \"state_info\"]:\n",
    "        df[col] = df[col].fillna(\"None\").astype(str)\n",
    "        V = build_descriptive_text_vocab_subject_stateInfo_nakiyah(df[col])\n",
    "        df[col] = df[col].apply(lambda x: vectorize_descriptive_text_subject_nakiyah(x, V))\n",
    "        vocabs[col] = V\n",
    "        \n",
    "    for col in [\"speaker\", \"context\"]:\n",
    "        df[col] = df[col].fillna(\"None\").astype(str)\n",
    "        V = build_descriptive_text_vocab_nruta(df[col])\n",
    "        df[col] = df[col].apply(lambda x: vectorize_descriptive_text_nruta(x, V))\n",
    "        vocabs[col] = V\n",
    "    return vocabs"
   ]
  },
  {
   "cell_type": "code",
   "execution_count": 18,
   "metadata": {},
   "outputs": [],
   "source": [
    "class SentimentDataset(Dataset):\n",
    "    def __init__(self, path, vocabs, transform=None):\n",
    "        self.sentiment = pd.read_csv(path)\n",
    "        self.sentiment = process_data(self.sentiment, vocabs)\n",
    "        self.transform = transform\n",
    "        \n",
    "        \n",
    "    def __len__(self):\n",
    "        return len(self.sentiment)\n",
    "    \n",
    "    def __getitem__(self, idx):\n",
    "        data = self.sentiment.iloc[idx]\n",
    "        label = data[\"label\"]\n",
    "        data = data.drop(\"label\")\n",
    "        \n",
    "        max_length = 0\n",
    "        for col in data.index:\n",
    "            value = data[col]\n",
    "            if isinstance(value, (np.ndarray, list)):\n",
    "                max_length = max(max_length, len(value))\n",
    "        \n",
    "        feature_vectors = []\n",
    "        for col in data.index:\n",
    "            value = data[col]\n",
    "            if isinstance(value, (np.ndarray, list)):\n",
    "                feature_vectors.append(np.array(value))\n",
    "            else:\n",
    "                feature_vectors.append(np.array([value], dtype=np.float32))\n",
    "\n",
    "        feature_vectors = np.concatenate(feature_vectors)\n",
    "\n",
    "        if self.transform:\n",
    "            feature_vectors = self.transform(feature_vectors)\n",
    "            \n",
    "        return torch.tensor(feature_vectors, dtype=torch.float32), torch.tensor(label, dtype=torch.float32)\n",
    "        "
   ]
  },
  {
   "cell_type": "code",
   "execution_count": null,
   "metadata": {},
   "outputs": [
    {
     "name": "stdout",
     "output_type": "stream",
     "text": [
      "processing data\n",
      "torch.Size([1, 85446]) torch.Size([1])\n"
     ]
    }
   ],
   "source": [
    "t = transform.Compose([transform.ToTensor()])\n",
    "vocabs = create_vocabs()\n",
    "train_dataset = SentimentDataset(path=\"data/train.csv\", vocabs=vocabs)\n",
    "dataloader = DataLoader(train_dataset, batch_size=1, shuffle=True)\n",
    "iterator = iter(dataloader)\n",
    "data, label = next(iterator)\n",
    "\n",
    "print(data.shape, label.shape)"
   ]
  },
  {
   "cell_type": "markdown",
   "metadata": {},
   "source": [
    "### Training Neural Network"
   ]
  },
  {
   "cell_type": "code",
   "execution_count": 19,
   "metadata": {},
   "outputs": [],
   "source": [
    "class FakeNewsClassifier(nn.Module):\n",
    "    def __init__(self, input_dim=85446, num_classes=6):\n",
    "        super(FakeNewsClassifier, self).__init__()\n",
    "        self.fc1 = nn.Linear(input_dim, 500)\n",
    "        self.bn1 = nn.BatchNorm1d(500)\n",
    "        self.fc2 = nn.Linear(500, 20)\n",
    "        self.bn2 = nn.BatchNorm1d(20)\n",
    "        self.fc3 = nn.Linear(20, num_classes)\n",
    "        self.relu = nn.ReLU()\n",
    "        self.softmax = nn.Softmax(dim=1)\n",
    "        \n",
    "    def forward(self, x):\n",
    "        x = self.relu(self.bn1(self.fc1(x)))\n",
    "        x = self.relu(self.bn2(self.fc2(x)))\n",
    "        x = self.fc3(x)\n",
    "        return x"
   ]
  },
  {
   "cell_type": "code",
   "execution_count": 20,
   "metadata": {},
   "outputs": [
    {
     "name": "stdout",
     "output_type": "stream",
     "text": [
      "processing data\n",
      "processing data\n",
      "processing data\n"
     ]
    }
   ],
   "source": [
    "device = torch.device(\"cuda\") if torch.cuda.is_available() else torch.device(\"cpu\")\n",
    "\n",
    "vocabs = create_vocabs()\n",
    "train_dataset = SentimentDataset(path=\"data/train.csv\", vocabs=vocabs)\n",
    "test_dataset = SentimentDataset(path=\"data/test.csv\", vocabs=vocabs)\n",
    "val_dataset = SentimentDataset(path=\"data/valid.csv\", vocabs=vocabs)\n",
    "\n",
    "train_loader = DataLoader(train_dataset, batch_size=128, shuffle=True)\n",
    "test_loader = DataLoader(test_dataset, batch_size=128, shuffle=False)\n",
    "val_loader = DataLoader(val_dataset, batch_size=128, shuffle=True)"
   ]
  },
  {
   "cell_type": "code",
   "execution_count": 21,
   "metadata": {},
   "outputs": [
    {
     "name": "stderr",
     "output_type": "stream",
     "text": [
      "Training: 100%|██████████| 144/144 [04:24<00:00,  1.84s/its]\n",
      "Validating: 100%|██████████| 18/18 [00:32<00:00,  1.81s/its]\n"
     ]
    },
    {
     "name": "stdout",
     "output_type": "stream",
     "text": [
      "Epoch 1/10: Train Loss:  1.4710, Val Loss: 1.4098097615771823, Train Accuracy:  43.25, Val Accuracy:  46.19\n"
     ]
    },
    {
     "name": "stderr",
     "output_type": "stream",
     "text": [
      "Training: 100%|██████████| 144/144 [04:26<00:00,  1.85s/its]\n",
      "Validating: 100%|██████████| 18/18 [00:32<00:00,  1.78s/its]\n"
     ]
    },
    {
     "name": "stdout",
     "output_type": "stream",
     "text": [
      "Epoch 2/10: Train Loss:  1.1255, Val Loss: 1.2877767152256436, Train Accuracy:  59.26, Val Accuracy:  50.20\n"
     ]
    },
    {
     "name": "stderr",
     "output_type": "stream",
     "text": [
      "Training: 100%|██████████| 144/144 [04:27<00:00,  1.86s/its]\n",
      "Validating: 100%|██████████| 18/18 [00:33<00:00,  1.85s/its]\n"
     ]
    },
    {
     "name": "stdout",
     "output_type": "stream",
     "text": [
      "Epoch 3/10: Train Loss:  0.8864, Val Loss: 1.248604456583659, Train Accuracy:  68.42, Val Accuracy:  51.33\n"
     ]
    },
    {
     "name": "stderr",
     "output_type": "stream",
     "text": [
      "Training: 100%|██████████| 144/144 [04:28<00:00,  1.86s/its]\n",
      "Validating: 100%|██████████| 18/18 [00:31<00:00,  1.74s/its]\n"
     ]
    },
    {
     "name": "stdout",
     "output_type": "stream",
     "text": [
      "Epoch 4/10: Train Loss:  0.7074, Val Loss: 1.4969594942198858, Train Accuracy:  74.74, Val Accuracy:  48.80\n"
     ]
    },
    {
     "name": "stderr",
     "output_type": "stream",
     "text": [
      "Training: 100%|██████████| 144/144 [04:26<00:00,  1.85s/its]\n",
      "Validating: 100%|██████████| 18/18 [00:32<00:00,  1.79s/its]\n"
     ]
    },
    {
     "name": "stdout",
     "output_type": "stream",
     "text": [
      "Epoch 5/10: Train Loss:  0.5551, Val Loss: 1.634317033820682, Train Accuracy:  80.45, Val Accuracy:  45.76\n"
     ]
    },
    {
     "name": "stderr",
     "output_type": "stream",
     "text": [
      "Training: 100%|██████████| 144/144 [04:27<00:00,  1.86s/its]\n",
      "Validating: 100%|██████████| 18/18 [00:33<00:00,  1.84s/its]\n"
     ]
    },
    {
     "name": "stdout",
     "output_type": "stream",
     "text": [
      "Epoch 6/10: Train Loss:  0.4731, Val Loss: 1.5569566289583843, Train Accuracy:  84.21, Val Accuracy:  47.89\n"
     ]
    },
    {
     "name": "stderr",
     "output_type": "stream",
     "text": [
      "Training: 100%|██████████| 144/144 [04:23<00:00,  1.83s/its]\n",
      "Validating: 100%|██████████| 18/18 [00:34<00:00,  1.89s/its]\n"
     ]
    },
    {
     "name": "stdout",
     "output_type": "stream",
     "text": [
      "Epoch 7/10: Train Loss:  0.3736, Val Loss: 1.7344608041975234, Train Accuracy:  87.87, Val Accuracy:  43.62\n"
     ]
    },
    {
     "name": "stderr",
     "output_type": "stream",
     "text": [
      "Training: 100%|██████████| 144/144 [04:28<00:00,  1.86s/its]\n",
      "Validating: 100%|██████████| 18/18 [00:32<00:00,  1.83s/its]\n"
     ]
    },
    {
     "name": "stdout",
     "output_type": "stream",
     "text": [
      "Epoch 8/10: Train Loss:  0.2927, Val Loss: 1.9069085915883381, Train Accuracy:  90.79, Val Accuracy:  44.36\n"
     ]
    },
    {
     "name": "stderr",
     "output_type": "stream",
     "text": [
      "Training: 100%|██████████| 144/144 [04:25<00:00,  1.85s/its]\n",
      "Validating: 100%|██████████| 18/18 [00:32<00:00,  1.83s/its]\n"
     ]
    },
    {
     "name": "stdout",
     "output_type": "stream",
     "text": [
      "Epoch 9/10: Train Loss:  0.2567, Val Loss: 2.1879683799213834, Train Accuracy:  92.33, Val Accuracy:  44.10\n"
     ]
    },
    {
     "name": "stderr",
     "output_type": "stream",
     "text": [
      "Training: 100%|██████████| 144/144 [04:27<00:00,  1.86s/its]\n",
      "Validating: 100%|██████████| 18/18 [00:34<00:00,  1.89s/its]\n"
     ]
    },
    {
     "name": "stdout",
     "output_type": "stream",
     "text": [
      "Epoch 10/10: Train Loss:  0.2187, Val Loss: 1.8885815276039972, Train Accuracy:  93.56, Val Accuracy:  50.94\n"
     ]
    },
    {
     "data": {
      "image/png": "[encoded data removed]",
      "text/plain": [
       "<Figure size 432x288 with 1 Axes>"
      ]
     },
     "metadata": {
      "needs_background": "light"
     },
     "output_type": "display_data"
    }
   ],
   "source": [
    "model = FakeNewsClassifier().to(device)\n",
    "optimizer = Adam(model.parameters(), lr=.001, weight_decay=1e-3)\n",
    "criterion = nn.CrossEntropyLoss()\n",
    "\n",
    "epochs = 10\n",
    "training_losses = []\n",
    "val_losses = []\n",
    "for epoch in range(1, epochs + 1):\n",
    "    train_loss = 0\n",
    "    val_loss = 0\n",
    "    train_correct_predictions = 0\n",
    "    train_total_samples = 0\n",
    "    val_correct_predictions = 0\n",
    "    val_total_samples = 0\n",
    "    \n",
    "    model.train()\n",
    "    for features, labels in tqdm(train_loader, desc=\"Training\", unit=\"its\"):\n",
    "        features = features.to(device).float()\n",
    "        labels = labels.to(device).long()\n",
    "        \n",
    "        optimizer.zero_grad()\n",
    "        outputs = model(features)\n",
    "        t_loss = criterion(outputs, labels)\n",
    "        t_loss.backward()\n",
    "        optimizer.step()\n",
    "        \n",
    "        train_loss += t_loss.item()\n",
    "        _, predicted = torch.max(outputs, 1)  # Get the class with the highest score\n",
    "        train_correct_predictions += (predicted == labels).sum().item()\n",
    "        train_total_samples += labels.size(0)\n",
    "        \n",
    "    model.eval()\n",
    "    for features, labels in tqdm(val_loader, desc=\"Validating\", unit=\"its\"):\n",
    "        features = features.to(device).float()\n",
    "        labels = labels.to(device).long()\n",
    "        with torch.no_grad():\n",
    "            outputs = model(features)\n",
    "            v_loss = criterion(outputs, labels)\n",
    "        \n",
    "        val_loss += v_loss.item()\n",
    "        _, predicted = torch.max(outputs, 1)\n",
    "        val_correct_predictions += (predicted == labels).sum().item()\n",
    "        val_total_samples += labels.size(0)\n",
    "        \n",
    "    train_loss /= len(train_loader)\n",
    "    val_loss /= len(val_loader)\n",
    "    training_losses.append(train_loss)\n",
    "    val_losses.append(val_loss)\n",
    "    train_accuracy = train_correct_predictions / train_total_samples * 100\n",
    "    val_accuracy = val_correct_predictions / val_total_samples * 100\n",
    "    print(f\"Epoch {epoch}/{epochs}: Train Loss: {train_loss: .4f}, Val Loss: {val_loss}, Train Accuracy: {train_accuracy: .2f}, Val Accuracy: {val_accuracy: .2f}\")\n",
    "    \n",
    "torch.save(model.state_dict(), \"trained_model.pth\")\n",
    "\n",
    "plt.plot(np.arange(epochs), training_losses, label=\"Train\")\n",
    "plt.plot(np.arange(epochs), val_losses, label=\"Validation\")\n",
    "plt.xlabel(\"Epoch\")\n",
    "plt.ylabel(\"Loss\")\n",
    "plt.title(\"Evolution of loss during training\")\n",
    "plt.legend()\n",
    "plt.tight_layout()\n",
    "plt.show()"
   ]
  },
  {
   "cell_type": "code",
   "execution_count": 24,
   "metadata": {},
   "outputs": [
    {
     "name": "stderr",
     "output_type": "stream",
     "text": [
      "Testing: 100%|██████████| 18/18 [00:32<00:00,  1.79s/batch]\n"
     ]
    },
    {
     "name": "stdout",
     "output_type": "stream",
     "text": [
      "Accuracy: 0.4974\n",
      "Precision: 0.5129\n",
      "Recall: 0.4974\n",
      "F1 Score: 0.4965\n",
      "\n",
      "Classification Report:\n",
      "              precision    recall  f1-score   support\n",
      "\n",
      "           0       0.39      0.54      0.45       303\n",
      "           1       0.51      0.60      0.55       660\n",
      "           2       0.54      0.48      0.51       360\n",
      "           3       0.59      0.40      0.48       371\n",
      "           4       0.58      0.40      0.48       343\n",
      "           5       0.42      0.46      0.44       259\n",
      "\n",
      "    accuracy                           0.50      2296\n",
      "   macro avg       0.51      0.48      0.48      2296\n",
      "weighted avg       0.51      0.50      0.50      2296\n",
      "\n"
     ]
    },
    {
     "data": {
      "image/png": "[encoded data removed]",
      "text/plain": [
       "<Figure size 432x288 with 2 Axes>"
      ]
     },
     "metadata": {
      "needs_background": "light"
     },
     "output_type": "display_data"
    }
   ],
   "source": [
    "test_model = FakeNewsClassifier().to(device)\n",
    "test_model.load_state_dict(torch.load(\"trained_model.pth\"))\n",
    "test_model.eval()\n",
    "\n",
    "all_predictions = []\n",
    "all_labels = []\n",
    "\n",
    "with torch.no_grad():\n",
    "    for features, labels in tqdm(test_loader, desc=\"Testing\", unit=\"batch\"):\n",
    "        features = features.to(device).float()\n",
    "        labels = labels.to(device).long()\n",
    "        \n",
    "        outputs = model(features)\n",
    "        _, predicted = torch.max(outputs, 1)\n",
    "\n",
    "        all_predictions.extend(predicted.cpu().numpy())\n",
    "        all_labels.extend(labels.cpu().numpy())\n",
    "\n",
    "# Calculate Metrics\n",
    "accuracy = accuracy_score(all_labels, all_predictions)\n",
    "precision = precision_score(all_labels, all_predictions, average=\"weighted\")\n",
    "recall = recall_score(all_labels, all_predictions, average=\"weighted\")\n",
    "f1 = f1_score(all_labels, all_predictions, average=\"weighted\")\n",
    "\n",
    "print(f\"Accuracy: {accuracy:.4f}\")\n",
    "print(f\"Precision: {precision:.4f}\")\n",
    "print(f\"Recall: {recall:.4f}\")\n",
    "print(f\"F1 Score: {f1:.4f}\")\n",
    "\n",
    "print(\"\\nClassification Report:\")\n",
    "print(classification_report(all_labels, all_predictions))\n",
    "\n",
    "corresponding_labels = [\"Pants on Fire\", \"False\", \"Barely True\", \"Half True\", \"Mostly True\", \"True\"]\n",
    "ConfusionMatrixDisplay.from_predictions(all_labels, all_predictions, display_labels=corresponding_labels)\n",
    "plt.title(\"Confusion Matrix\")\n",
    "plt.savefig(\"results/confusion_matrix.png\")\n",
    "plt.show()"
   ]
  }
 ],
 "metadata": {
  "kernelspec": {
   "display_name": "Python 3 (ipykernel)",
   "language": "python",
   "name": "python3"
  },
  "language_info": {
   "codemirror_mode": {
    "name": "ipython",
    "version": 3
   },
   "file_extension": ".py",
   "mimetype": "text/x-python",
   "name": "python",
   "nbconvert_exporter": "python",
   "pygments_lexer": "ipython3",
   "version": "3.9.7"
  }
 },
 "nbformat": 4,
 "nbformat_minor": 4
}
