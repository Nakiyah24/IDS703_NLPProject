{
 "cells": [
  {
   "cell_type": "code",
   "execution_count": null,
   "metadata": {},
   "outputs": [],
   "source": [
    "from sklearn.model_selection import train_test_split\n",
    "from bertopic import BERTopic\n",
    "from sklearn.feature_extraction.text import CountVectorizer\n",
    "from sklearn.metrics import classification_report\n",
    "from transformers import AutoTokenizer, AutoModelForSequenceClassification\n",
    "import torch\n",
    "import pandas as pd"
   ]
  },
  {
   "cell_type": "code",
   "execution_count": null,
   "metadata": {},
   "outputs": [],
   "source": [
    "# Assuming the dataset is in a CSV file\n",
    "df = pd.read_csv(\"LIAR2/train.csv\", delimiter=',')\n",
    "statements = df['statement'].dropna().tolist() \n",
    "subjects = df['subject'].dropna().tolist()  "
   ]
  },
  {
   "cell_type": "code",
   "execution_count": null,
   "metadata": {},
   "outputs": [],
   "source": [
    "\n",
    "\n",
    "# Split data into training and testing\n",
    "X_train, X_test, y_train, y_test = train_test_split(statements, subjects, test_size=0.2, random_state=42)\n",
    "\n",
    "# Initialize a tokenizer and model for embeddings (using a pre-trained BERT model)\n",
    "tokenizer = AutoTokenizer.from_pretrained(\"bert-base-uncased\")\n",
    "model = AutoModelForSequenceClassification.from_pretrained(\"bert-base-uncased\")\n",
    "\n",
    "# Function to encode text using BERT embeddings\n",
    "def encode_text(texts):\n",
    "    inputs = tokenizer(texts, padding=True, truncation=True, return_tensors=\"pt\", max_length=512)\n",
    "    with torch.no_grad():\n",
    "        embeddings = model(**inputs).logits\n",
    "    return embeddings.numpy()\n",
    "\n",
    "# Use the above function to encode the training and test texts\n",
    "X_train_embeddings = encode_text(X_train)\n",
    "X_test_embeddings = encode_text(X_test)\n",
    "\n",
    "# Initialize BERTopic with supervision (use the subjects as labels)\n",
    "topic_model = BERTopic(language=\"english\")\n",
    "topic_model.fit(X_train_embeddings, y_train)\n",
    "\n",
    "# Evaluate the model\n",
    "y_pred = topic_model.transform(X_test_embeddings)\n",
    "print(classification_report(y_test, y_pred))\n"
   ]
  },
  {
   "cell_type": "code",
   "execution_count": null,
   "metadata": {},
   "outputs": [],
   "source": [
    "print(\"\"\"NOTNEEDEdCODE/n df = pd.read_csv(\"LIAR2/train.csv\")\n",
    "\n",
    "## Fr traingin data\n",
    "# Convert categorical columns to numeric using LabelEncoder\n",
    "categorical_cols = ['subject', 'speaker', 'speaker_description', 'state_info', 'context', 'justification']\n",
    "label_encoders = {}\n",
    "for col in categorical_cols:\n",
    "    le = LabelEncoder()\n",
    "    df[col] = le.fit_transform(df[col].astype(str))\n",
    "    label_encoders[col] = le  # Store encoder for potential inverse transformation\n",
    "\n",
    "# Handle missing values (fill with 0 for simplicity)\n",
    "df = df.fillna(0)\n",
    "\n",
    "# Separate features and labels\n",
    "features = df.drop(columns=['label', 'id', 'statement', 'date'])\n",
    "labels = df['label']\n",
    "\n",
    "# Step 3: Convert to PyTorch Tensors\n",
    "features_tensor = torch.tensor(features.values, dtype=torch.float32)\n",
    "labels_tensor = torch.tensor(labels.values, dtype=torch.long)\n",
    "\n",
    "# Step 4: Print shapes for verification\n",
    "print(\"Features Tensor Shape:\", features_tensor.shape)\n",
    "print(\"Labels Tensor Shape:\", labels_tensor.shape)\n",
    "\"\"\")"
   ]
  }
 ],
 "metadata": {
  "kernelspec": {
   "display_name": "Python 3",
   "language": "python",
   "name": "python3"
  },
  "language_info": {
   "name": "python",
   "version": "3.12.7"
  }
 },
 "nbformat": 4,
 "nbformat_minor": 2
}
