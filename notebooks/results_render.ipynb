{
 "cells": [
  {
   "cell_type": "code",
   "execution_count": 5,
   "metadata": {},
   "outputs": [],
   "source": [
    "from PIL import Image\n",
    "\n",
    "# Open the PNG image\n",
    "img_main = Image.open(\"results/confusion_matrix.png\")\n",
    "\n",
    "# Create a white background image with the same size as the original image\n",
    "white_bg = Image.new(\"RGBA\", img_main.size, (255, 255, 255, 255))\n",
    "\n",
    "# Paste the original image on top of the white background\n",
    "white_bg.paste(img_main, (0, 0), img_main)\n",
    "\n",
    "# Save the new image with the white background\n",
    "white_bg.save(\"main_confusion_matrix_white_background.png\")"
   ]
  },
  {
   "cell_type": "code",
   "execution_count": 6,
   "metadata": {},
   "outputs": [],
   "source": [
    "img_test = Image.open(\"results/test_confusion_matrix.png\")\n",
    "\n",
    "# Create a white background image with the same size as the original image\n",
    "white_bg = Image.new(\"RGBA\", img_test.size, (255, 255, 255, 255))\n",
    "\n",
    "# Paste the original image on top of the white background\n",
    "white_bg.paste(img_test, (0, 0), img_test)\n",
    "\n",
    "# Save the new image with the white background\n",
    "white_bg.save(\"test_confusion_matrix_white_background.png\")"
   ]
  }
 ],
 "metadata": {
  "kernelspec": {
   "display_name": "base",
   "language": "python",
   "name": "python3"
  },
  "language_info": {
   "codemirror_mode": {
    "name": "ipython",
    "version": 3
   },
   "file_extension": ".py",
   "mimetype": "text/x-python",
   "name": "python",
   "nbconvert_exporter": "python",
   "pygments_lexer": "ipython3",
   "version": "3.12.2"
  }
 },
 "nbformat": 4,
 "nbformat_minor": 2
}
