{
 "cells": [
  {
   "cell_type": "code",
   "execution_count": 5,
   "metadata": {},
   "outputs": [],
   "source": [
    "import pandas as pd\n",
    "import torch\n",
    "from sklearn.preprocessing import LabelEncoder"
   ]
  },
  {
   "cell_type": "code",
   "execution_count": null,
   "metadata": {},
   "outputs": [
    {
     "name": "stdout",
     "output_type": "stream",
     "text": [
      "Features Tensor Shape: torch.Size([18369, 12])\n",
      "Labels Tensor Shape: torch.Size([18369])\n"
     ]
    }
   ],
   "source": [
    "df = pd.read_csv(\"LIAR2/train.csv\")\n",
    "\n",
    "## Fr traingin data\n",
    "# Convert categorical columns to numeric using LabelEncoder\n",
    "categorical_cols = ['subject', 'speaker', 'speaker_description', 'state_info', 'context', 'justification']\n",
    "label_encoders = {}\n",
    "for col in categorical_cols:\n",
    "    le = LabelEncoder()\n",
    "    df[col] = le.fit_transform(df[col].astype(str))\n",
    "    label_encoders[col] = le  # Store encoder for potential inverse transformation\n",
    "\n",
    "# Handle missing values (fill with 0 for simplicity)\n",
    "df = df.fillna(0)\n",
    "\n",
    "# Separate features and labels\n",
    "features = df.drop(columns=['label', 'id', 'statement', 'date'])\n",
    "labels = df['label']\n",
    "\n",
    "# Step 3: Convert to PyTorch Tensors\n",
    "features_tensor = torch.tensor(features.values, dtype=torch.float32)\n",
    "labels_tensor = torch.tensor(labels.values, dtype=torch.long)\n",
    "\n",
    "# Step 4: Print shapes for verification\n",
    "print(\"Features Tensor Shape:\", features_tensor.shape)\n",
    "print(\"Labels Tensor Shape:\", labels_tensor.shape)\n"
   ]
  }
 ],
 "metadata": {
  "kernelspec": {
   "display_name": "Python 3",
   "language": "python",
   "name": "python3"
  },
  "language_info": {
   "codemirror_mode": {
    "name": "ipython",
    "version": 3
   },
   "file_extension": ".py",
   "mimetype": "text/x-python",
   "name": "python",
   "nbconvert_exporter": "python",
   "pygments_lexer": "ipython3",
   "version": "3.12.7"
  }
 },
 "nbformat": 4,
 "nbformat_minor": 2
}
